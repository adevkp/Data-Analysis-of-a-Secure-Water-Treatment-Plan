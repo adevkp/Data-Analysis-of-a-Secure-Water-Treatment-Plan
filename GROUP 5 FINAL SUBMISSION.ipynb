{
 "cells": [
  {
   "cell_type": "markdown",
   "id": "Rzo_nhRHn0kZ",
   "metadata": {
    "id": "Rzo_nhRHn0kZ"
   },
   "source": [
    "### Library and File Imports"
   ]
  },
  {
   "cell_type": "markdown",
   "id": "qksrQ5-DZyf4",
   "metadata": {
    "id": "qksrQ5-DZyf4"
   },
   "source": [
    "The following libraries have been used to analyze the given dataset"
   ]
  },
  {
   "cell_type": "code",
   "execution_count": null,
   "id": "26f5d794",
   "metadata": {
    "colab": {
     "base_uri": "https://localhost:8080/",
     "height": 17
    },
    "id": "26f5d794",
    "outputId": "2e3a5301-4ef5-4daf-e4b2-acf43c7ceab0"
   },
   "outputs": [],
   "source": [
    "import numpy as np\n",
    "import pandas as pd\n",
    "import matplotlib.pyplot as plt\n",
    "%matplotlib inline\n",
    "import seaborn as sns\n",
    "from scipy import stats\n",
    "from scipy.stats import norm\n",
    "\n",
    "import chart_studio.plotly as py\n",
    "import cufflinks as cf\n",
    "from plotly.offline import download_plotlyjs,init_notebook_mode,plot,iplot\n",
    "init_notebook_mode(connected = True)\n",
    "cf.go_offline()"
   ]
  },
  {
   "cell_type": "code",
   "execution_count": null,
   "id": "c4a51f08",
   "metadata": {},
   "outputs": [],
   "source": [
    "#we read the dataset into a python dataframe named swat"
   ]
  },
  {
   "cell_type": "code",
   "execution_count": null,
   "id": "WN6XvdLWSNId",
   "metadata": {
    "colab": {
     "background_save": true,
     "base_uri": "https://localhost:8080/",
     "height": 56,
     "resources": {
      "http://localhost:8080/nbextensions/google.colab/files.js": {
       "data": "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",
       "headers": [
        [
         "content-type",
         "application/javascript"
        ]
       ],
       "ok": true,
       "status": 200,
       "status_text": ""
      }
     }
    },
    "id": "WN6XvdLWSNId",
    "outputId": "a3627c14-c5da-4fa7-a4c4-667e6f45a8c4"
   },
   "outputs": [],
   "source": [
    "swat = pd.read_csv('SWAT.csv')"
   ]
  },
  {
   "cell_type": "markdown",
   "id": "PM5j6hjioFHk",
   "metadata": {
    "id": "PM5j6hjioFHk"
   },
   "source": [
    "### Basic Information on the Dataset\n",
    "\n",
    "\n"
   ]
  },
  {
   "cell_type": "code",
   "execution_count": null,
   "id": "77bf6f97",
   "metadata": {
    "id": "77bf6f97"
   },
   "outputs": [],
   "source": [
    "swat"
   ]
  },
  {
   "cell_type": "code",
   "execution_count": null,
   "id": "e72346a8",
   "metadata": {
    "id": "e72346a8"
   },
   "outputs": [],
   "source": [
    "swat.head(5)"
   ]
  },
  {
   "cell_type": "code",
   "execution_count": null,
   "id": "9d733ade",
   "metadata": {
    "id": "9d733ade"
   },
   "outputs": [],
   "source": [
    "t = swat.describe()\n",
    "t.to_csv('describe.csv')\n",
    "t"
   ]
  },
  {
   "cell_type": "markdown",
   "id": "rkyvbrOCiS3F",
   "metadata": {
    "id": "rkyvbrOCiS3F"
   },
   "source": [
    "### Correlation of the DataSet"
   ]
  },
  {
   "cell_type": "code",
   "execution_count": null,
   "id": "3d2ffbe3",
   "metadata": {},
   "outputs": [],
   "source": [
    "#we have computed the correlation between the different columns of the dataset in this section"
   ]
  },
  {
   "cell_type": "code",
   "execution_count": null,
   "id": "d33b1337",
   "metadata": {
    "id": "d33b1337",
    "scrolled": true
   },
   "outputs": [],
   "source": [
    "t = swat.corr()"
   ]
  },
  {
   "cell_type": "code",
   "execution_count": null,
   "id": "1y3J1GgqaucQ",
   "metadata": {
    "colab": {
     "base_uri": "https://localhost:8080/",
     "height": 807
    },
    "id": "1y3J1GgqaucQ",
    "outputId": "00728748-d141-43d0-f4b3-da50b91e27da"
   },
   "outputs": [],
   "source": [
    "plt.figure(figsize = (19,13))\n",
    "sns.heatmap(t, cmap=\"coolwarm\")"
   ]
  },
  {
   "cell_type": "code",
   "execution_count": null,
   "id": "TcW3F5CfePcz",
   "metadata": {
    "colab": {
     "base_uri": "https://localhost:8080/"
    },
    "id": "TcW3F5CfePcz",
    "outputId": "a569b991-547d-430f-a33f-7f04547aef03"
   },
   "outputs": [],
   "source": [
    "swat.shape"
   ]
  },
  {
   "cell_type": "code",
   "execution_count": null,
   "id": "0c719097",
   "metadata": {},
   "outputs": [],
   "source": [
    "#we save the highly correlated values into a csv file named topcorrelation for future use."
   ]
  },
  {
   "cell_type": "code",
   "execution_count": null,
   "id": "xKb0b9yAtj-Q",
   "metadata": {
    "id": "xKb0b9yAtj-Q"
   },
   "outputs": [],
   "source": [
    "st = t.unstack().sort_values(kind=\"quicksort\",ascending = False)\n",
    "st = st.dropna()\n"
   ]
  },
  {
   "cell_type": "code",
   "execution_count": null,
   "id": "I788CSEatkL5",
   "metadata": {
    "id": "I788CSEatkL5"
   },
   "outputs": [],
   "source": [
    "st.to_csv('topcorrelation.csv')"
   ]
  },
  {
   "cell_type": "markdown",
   "id": "xLKrEg05nm4X",
   "metadata": {
    "id": "xLKrEg05nm4X"
   },
   "source": [
    "### Causality"
   ]
  },
  {
   "cell_type": "code",
   "execution_count": null,
   "id": "78e0ef98",
   "metadata": {},
   "outputs": [],
   "source": [
    "#Granger-Causality Test\n",
    "#The granger causality test is used for predicting whether a given time series is useful for forecasting another time series\n",
    "#The test returns a F test statistic with a corresponding p-value. \n",
    "#if he p-value is less than a certain significance level (i.e. α = .05),we can say the time series causes the second time series"
   ]
  },
  {
   "cell_type": "code",
   "execution_count": null,
   "id": "d78dd94e",
   "metadata": {},
   "outputs": [],
   "source": [
    "#Below is an example of a granger causality test and the results it returns"
   ]
  },
  {
   "cell_type": "code",
   "execution_count": null,
   "id": "Y5UZGP-9kl3G",
   "metadata": {
    "colab": {
     "base_uri": "https://localhost:8080/",
     "height": 374
    },
    "id": "Y5UZGP-9kl3G",
    "outputId": "c0ee10da-53b3-4633-ec27-d7e6a85d1898"
   },
   "outputs": [],
   "source": [
    "from statsmodels.tsa.stattools import grangercausalitytests\n",
    "\n",
    "grangercausalitytests(swat[['LIT101', 'FIT101']], maxlag=[1])\n"
   ]
  },
  {
   "cell_type": "code",
   "execution_count": null,
   "id": "a4dfcb7f",
   "metadata": {},
   "outputs": [],
   "source": [
    "#From the above result we can infer that FIT101 can forecast LIT101 because the corresponding p value is lesser than 0.05"
   ]
  },
  {
   "cell_type": "code",
   "execution_count": null,
   "id": "6857dec6",
   "metadata": {},
   "outputs": [],
   "source": [
    "#we will drop all the null values for better accuracy of the test and save it in a new dataset"
   ]
  },
  {
   "cell_type": "code",
   "execution_count": null,
   "id": "add6b50e",
   "metadata": {},
   "outputs": [],
   "source": [
    "swatnew = swat.dropna()"
   ]
  },
  {
   "cell_type": "code",
   "execution_count": null,
   "id": "7d5af8f3",
   "metadata": {},
   "outputs": [],
   "source": [
    "#The dataset has no null values and hence no changes are reflected in the dataset\n",
    "swatnew.info()"
   ]
  },
  {
   "cell_type": "code",
   "execution_count": null,
   "id": "f61301ec",
   "metadata": {},
   "outputs": [],
   "source": [
    "#Below we have automated the process of the Granger Causality test for all the columns \n",
    "#All the column pairs that pass the test will be saved in a dataframe\n",
    "#Certain Columns as mentioned in the second line of the block of code have been dropped as they have a constant value throughout the dataset\n",
    "#Please wait as the block of code will take a couple of minutes to finish executing"
   ]
  },
  {
   "cell_type": "code",
   "execution_count": null,
   "id": "f15b4db9",
   "metadata": {
    "scrolled": false
   },
   "outputs": [],
   "source": [
    "nm = []\n",
    "swatfinal = swatnew.drop(['P102','P201','P202','P204','P206','P401','P403','P404','P502','P601','P603'],axis = 1)\n",
    "for y in swatfinal:\n",
    "    for x in swatfinal:\n",
    "        gc = grangercausalitytests(swatfinal[[x, y]], maxlag=[1],verbose = False)\n",
    "        res = gc[1][0]['ssr_ftest'][1]\n",
    "        if(res<0.05):\n",
    "            nm.append((y,'Cause',x, res))       \n",
    "\n",
    "causalityvalues = pd.DataFrame(nm,columns = ['Column Name','Relation', 'Column Name', 'P_Score'])\n",
    "causalityvalues"
   ]
  },
  {
   "cell_type": "code",
   "execution_count": null,
   "id": "6e745dc8",
   "metadata": {},
   "outputs": [],
   "source": [
    "#Saving the dataset according to the columns and their causation\n",
    "causalityvalues.to_csv('CausalityUnsorted.csv')"
   ]
  },
  {
   "cell_type": "code",
   "execution_count": null,
   "id": "a3fb3937",
   "metadata": {},
   "outputs": [],
   "source": [
    "#Sorting the dataset according to the pairs which gave the best result and saving it"
   ]
  },
  {
   "cell_type": "code",
   "execution_count": null,
   "id": "86007053",
   "metadata": {},
   "outputs": [],
   "source": [
    "causalityvalues = pd.DataFrame(nm,columns = ['Column Name','Relation', 'Column Name', 'P_Score'])\n",
    "causalityvalues = causalityvalues.sort_values(causalityvalues.columns[3]).reset_index(drop = True)\n",
    "causalityvalues.to_csv('CausalitySorted.csv')\n",
    "causalityvalues\n",
    "#As we can see there are around 53 pairs in the dataset which have  perfect causality"
   ]
  },
  {
   "cell_type": "code",
   "execution_count": null,
   "id": "1d3e3e50",
   "metadata": {},
   "outputs": [],
   "source": [
    "#FROM THE FOLLOWING TESTS WE CAN SEE THAT FIT201 HAS MUCH BETTER CAUSALITY WITH AIT201,AIT202,AIT203 THAT FIT101 indicating different stages.\n",
    "#FROM THE TESTS WE CAN IDENTIFY THAT FIT201 CAUSES LIT101 AND NOT VICE VERSA\n",
    "#FROM THE TESTS WE CAN IDENTIFY THAT MV201 CAUSES MV101 AND NOT VICE VERSA\n",
    "#FROM THE TESTS WE CAN IDENTIFY THAT AIT201 CAUSES MV101 AND NOT VICE VERSA\n"
   ]
  },
  {
   "cell_type": "code",
   "execution_count": null,
   "id": "4695be25",
   "metadata": {},
   "outputs": [],
   "source": [
    "#COMPARING THE PROCESSES AT SEWAGWE WATER TREATMENT PLANTS,WE CAN CONCLUDE FROM THE ABOVE TESTS THAT THE FIRST DIGIT OF THE LABEL\n",
    "#OF THE COLUMN INDICATES THE STAGE OF THE PROCESS.\n",
    "#EXAMPLE:P101 INDICATES FIRST STAGE SINCE THE DIGIT AFTER 'P' IS 1.\n",
    "\n"
   ]
  },
  {
   "cell_type": "code",
   "execution_count": null,
   "id": "42a7538a",
   "metadata": {},
   "outputs": [],
   "source": [
    "#OUR INFERENCE AFTER STUDYING THE PROCESS THAT HAPPENS AT WATER TREATMENT PLANTS:\n",
    "#FIT HAS TO BE THE FLOW INDICATOR\n",
    "#MV HAS TO BE THE VALVE(PROBABLY AS IT HAS DISCRETE VALUES)\n",
    "#LIT HAS TO BE THE LEVEL INDICATOR\n",
    "#P HAS TO BE THE PUMP AS MOST OF THE VALUES ARE BINARY\n",
    "#AIT HAS TO BE THE QUALITY INDICATOR AS IT IS NOT PRESENT IN STAGE 1.\n",
    "#UV MIGHT BE RELATED TO ULTRAVIOLET LIGHT AS IT HAS 2 DISCRETE VALUES."
   ]
  },
  {
   "cell_type": "markdown",
   "id": "k58wp6v5jRNx",
   "metadata": {
    "id": "k58wp6v5jRNx"
   },
   "source": [
    "### Curves that fit the Gaussian Distribution"
   ]
  },
  {
   "cell_type": "code",
   "execution_count": null,
   "id": "CYPOBXvWTmVe",
   "metadata": {
    "id": "CYPOBXvWTmVe"
   },
   "outputs": [],
   "source": [
    "#import plotly.io as pio\n",
    "#pio.renderers.default = \"colab\""
   ]
  },
  {
   "cell_type": "code",
   "execution_count": null,
   "id": "349d2acd",
   "metadata": {
    "id": "349d2acd",
    "scrolled": true
   },
   "outputs": [],
   "source": [
    "\n",
    "swat['LIT101'].iplot(kind= 'hist',bins = 500)"
   ]
  },
  {
   "cell_type": "code",
   "execution_count": null,
   "id": "5dad69bc",
   "metadata": {
    "id": "5dad69bc"
   },
   "outputs": [],
   "source": [
    "\n",
    "data = swat['LIT101']\n",
    "data1 = data[data.between(450,550)]\n",
    "  \n",
    "mu, std = norm.fit(data1) \n",
    "\n",
    "plt.hist(data1, bins=24, density=True, alpha=0.6, color='b')\n",
    "  \n",
    "xmin, xmax = plt.xlim()\n",
    "x = np.linspace(xmin, xmax, 100)\n",
    "p = norm.pdf(x, mu, std)\n",
    "  \n",
    "plt.plot(x, p, 'k', linewidth=2)\n",
    "title = \"Fit Values: {:.2f} and {:.2f} (values between 400 and 600)\".format(mu, std)\n",
    "plt.title(title)\n",
    "  \n",
    "plt.show()"
   ]
  },
  {
   "cell_type": "code",
   "execution_count": null,
   "id": "2253ad1c",
   "metadata": {
    "id": "2253ad1c"
   },
   "outputs": [],
   "source": [
    "\n",
    "swat['FIT101'].iplot(kind= 'hist',bins = 200)"
   ]
  },
  {
   "cell_type": "code",
   "execution_count": null,
   "id": "b71c1050",
   "metadata": {
    "id": "b71c1050"
   },
   "outputs": [],
   "source": [
    "\n",
    "data = swat['FIT101']\n",
    "a = 2.415\n",
    "b = 2.675\n",
    "data1 = data[data.between(a,b)]\n",
    "  \n",
    "mu, std = norm.fit(data1) \n",
    "\n",
    "plt.hist(data1, bins=10, density=True, alpha=0.6, color='b')\n",
    "  \n",
    "xmin, xmax = plt.xlim()\n",
    "x = np.linspace(xmin, xmax, 100)\n",
    "p = norm.pdf(x, mu, std)\n",
    "  \n",
    "plt.plot(x, p, 'k', linewidth=2)\n",
    "title = \"Fit Values: {:.2f} and {:.2f} (values between {:.2f} and {:.2f})\".format(mu, std,a,b)\n",
    "plt.title(title)\n",
    "  \n",
    "plt.show()"
   ]
  },
  {
   "cell_type": "code",
   "execution_count": null,
   "id": "e4872f1a",
   "metadata": {
    "id": "e4872f1a"
   },
   "outputs": [],
   "source": [
    "swat['AIT201'].iplot(kind= 'hist',bins = 200)"
   ]
  },
  {
   "cell_type": "code",
   "execution_count": null,
   "id": "CiIdgJEmUK2K",
   "metadata": {
    "id": "CiIdgJEmUK2K"
   },
   "outputs": [],
   "source": [
    "data = swat['AIT201']\n",
    "a = 251.6\n",
    "b = 264.4\n",
    "data1 = data[data.between(a,b)]\n",
    "  \n",
    "mu, std = norm.fit(data1) \n",
    "\n",
    "plt.hist(data1, bins=20, density=True, alpha=0.6, color='b')\n",
    "  \n",
    "xmin, xmax = plt.xlim()\n",
    "x = np.linspace(xmin, xmax, 100)\n",
    "p = norm.pdf(x, mu, std)\n",
    "  \n",
    "plt.plot(x, p, 'k', linewidth=2)\n",
    "title = \"Fit Values: {:.2f} and {:.2f} (values between {:.2f} and {:.2f})\".format(mu, std,a,b)\n",
    "plt.title(title)\n",
    "  \n",
    "plt.show()"
   ]
  },
  {
   "cell_type": "code",
   "execution_count": null,
   "id": "gEdP_B9PUiss",
   "metadata": {
    "id": "gEdP_B9PUiss"
   },
   "outputs": [],
   "source": [
    "swat['AIT202'].iplot(kind= 'hist',bins = 200)"
   ]
  },
  {
   "cell_type": "code",
   "execution_count": null,
   "id": "LX_MpJwyjsSD",
   "metadata": {
    "id": "LX_MpJwyjsSD"
   },
   "outputs": [],
   "source": [
    "data = swat['AIT202']\n",
    "a = 8.29\n",
    "b = 8.45\n",
    "data1 = data[data.between(a,b)]\n",
    "  \n",
    "mu, std = norm.fit(data1) \n",
    "\n",
    "plt.hist(data1, bins=10, density=True, alpha=0.6, color='b')\n",
    "  \n",
    "xmin, xmax = plt.xlim()\n",
    "x = np.linspace(xmin, xmax, 100)\n",
    "p = norm.pdf(x, mu, std)\n",
    "  \n",
    "plt.plot(x, p, 'k', linewidth=2)\n",
    "title = \"Fit Values: {:.2f} and {:.2f} (values between {:.2f} and {:.2f})\".format(mu, std,a,b)\n",
    "plt.title(title)\n",
    "  \n",
    "plt.show()"
   ]
  },
  {
   "cell_type": "code",
   "execution_count": null,
   "id": "gDKDJHtOj3TN",
   "metadata": {
    "id": "gDKDJHtOj3TN"
   },
   "outputs": [],
   "source": [
    "swat['AIT203'].iplot(kind= 'hist',bins = 200)"
   ]
  },
  {
   "cell_type": "code",
   "execution_count": null,
   "id": "3X9OdJ4hkLvf",
   "metadata": {
    "id": "3X9OdJ4hkLvf"
   },
   "outputs": [],
   "source": [
    "data = swat['AIT203']\n",
    "a = 300\n",
    "b = 346\n",
    "data1 = data[data.between(a,b)]\n",
    "  \n",
    "mu, std = norm.fit(data1) \n",
    "\n",
    "plt.hist(data1, bins=10, density=True, alpha=0.6, color='b')\n",
    "  \n",
    "xmin, xmax = plt.xlim()\n",
    "x = np.linspace(xmin, xmax, 100)\n",
    "p = norm.pdf(x, mu, std)\n",
    "  \n",
    "plt.plot(x, p, 'k', linewidth=2)\n",
    "title = \"Fit Values: {:.2f} and {:.2f} (values between {:.2f} and {:.2f})\".format(mu, std,a,b)\n",
    "plt.title(title)\n",
    "  \n",
    "plt.show()"
   ]
  },
  {
   "cell_type": "code",
   "execution_count": null,
   "id": "1YZQYwkskdux",
   "metadata": {
    "id": "1YZQYwkskdux"
   },
   "outputs": [],
   "source": [
    "swat['FIT201'].iplot(kind= 'hist',bins = 200)"
   ]
  },
  {
   "cell_type": "code",
   "execution_count": null,
   "id": "bImLLu7ekiDX",
   "metadata": {
    "id": "bImLLu7ekiDX"
   },
   "outputs": [],
   "source": [
    "data = swat['FIT201']\n",
    "a = 2.43\n",
    "b = 2.47\n",
    "data1 = data[data.between(a,b)]\n",
    "  \n",
    "mu, std = norm.fit(data1) \n",
    "\n",
    "plt.hist(data1, bins=9, density=True, alpha=0.6, color='b')\n",
    "  \n",
    "xmin, xmax = plt.xlim()\n",
    "x = np.linspace(xmin, xmax, 100)\n",
    "p = norm.pdf(x, mu, std)\n",
    "  \n",
    "plt.plot(x, p, 'k', linewidth=2)\n",
    "title = \"Fit Values: {:.2f} and {:.2f} (values between {:.2f} and {:.2f})\".format(mu, std,a,b)\n",
    "plt.title(title)\n",
    "  \n",
    "plt.show()"
   ]
  },
  {
   "cell_type": "code",
   "execution_count": null,
   "id": "yJweSQSFk1qC",
   "metadata": {
    "id": "yJweSQSFk1qC"
   },
   "outputs": [],
   "source": [
    "swat['DPIT301'].iplot(kind= 'hist',bins = 200)"
   ]
  },
  {
   "cell_type": "code",
   "execution_count": null,
   "id": "cFzna1mZk9fb",
   "metadata": {
    "id": "cFzna1mZk9fb"
   },
   "outputs": [],
   "source": [
    "data = swat['DPIT301']\n",
    "a = 18.4\n",
    "b = 20.8\n",
    "data1 = data[data.between(a,b)]\n",
    "  \n",
    "mu, std = norm.fit(data1) \n",
    "\n",
    "plt.hist(data1, bins=10, density=True, alpha=0.6, color='b')\n",
    "  \n",
    "xmin, xmax = plt.xlim()\n",
    "x = np.linspace(xmin, xmax, 100)\n",
    "p = norm.pdf(x, mu, std)\n",
    "  \n",
    "plt.plot(x, p, 'k', linewidth=2)\n",
    "title = \"Fit Values: {:.2f} and {:.2f} (values between {:.2f} and {:.2f})\".format(mu, std,a,b)\n",
    "plt.title(title)\n",
    "  \n",
    "plt.show()"
   ]
  },
  {
   "cell_type": "code",
   "execution_count": null,
   "id": "6-2fg199lG49",
   "metadata": {
    "id": "6-2fg199lG49"
   },
   "outputs": [],
   "source": [
    "swat['FIT301'].iplot(kind= 'hist',bins = 200)"
   ]
  },
  {
   "cell_type": "code",
   "execution_count": null,
   "id": "fI998zMUlRxt",
   "metadata": {
    "id": "fI998zMUlRxt"
   },
   "outputs": [],
   "source": [
    "data = swat['FIT301']\n",
    "a = 2.13\n",
    "b = 2.29\n",
    "data1 = data[data.between(a,b)]\n",
    "  \n",
    "mu, std = norm.fit(data1) \n",
    "\n",
    "plt.hist(data1, bins=10, density=True, alpha=0.6, color='b')\n",
    "  \n",
    "xmin, xmax = plt.xlim()\n",
    "x = np.linspace(xmin, xmax, 100)\n",
    "p = norm.pdf(x, mu, std)\n",
    "  \n",
    "plt.plot(x, p, 'k', linewidth=2)\n",
    "title = \"Fit Values: {:.2f} and {:.2f} (values between {:.2f} and {:.2f})\".format(mu, std,a,b)\n",
    "plt.title(title)\n",
    "  \n",
    "plt.show()"
   ]
  },
  {
   "cell_type": "code",
   "execution_count": null,
   "id": "leGTz0bIlavO",
   "metadata": {
    "id": "leGTz0bIlavO"
   },
   "outputs": [],
   "source": [
    "swat['LIT301'].iplot(kind= 'hist',bins = 200)"
   ]
  },
  {
   "cell_type": "code",
   "execution_count": null,
   "id": "v66eqyTslyG0",
   "metadata": {
    "id": "v66eqyTslyG0"
   },
   "outputs": [],
   "source": [
    "swat['AIT402'].iplot(kind= 'hist',bins = 200)"
   ]
  },
  {
   "cell_type": "code",
   "execution_count": null,
   "id": "QVqCbf0wl5sk",
   "metadata": {
    "id": "QVqCbf0wl5sk"
   },
   "outputs": [],
   "source": [
    "data = swat['AIT402']\n",
    "a = 178.5\n",
    "b = 184.5\n",
    "data1 = data[data.between(a,b)]\n",
    "  \n",
    "mu, std = norm.fit(data1) \n",
    "\n",
    "plt.hist(data1, bins=10, density=True, alpha=0.6, color='b')\n",
    "  \n",
    "xmin, xmax = plt.xlim()\n",
    "x = np.linspace(xmin, xmax, 100)\n",
    "p = norm.pdf(x, mu, std)\n",
    "  \n",
    "plt.plot(x, p, 'k', linewidth=2)\n",
    "title = \"Fit Values: {:.2f} and {:.2f} (values between {:.2f} and {:.2f})\".format(mu, std,a,b)\n",
    "plt.title(title)\n",
    "  \n",
    "plt.show()"
   ]
  },
  {
   "cell_type": "code",
   "execution_count": null,
   "id": "DLkW4R57mE_Z",
   "metadata": {
    "id": "DLkW4R57mE_Z"
   },
   "outputs": [],
   "source": [
    "swat['LIT401'].iplot(kind= 'hist',bins = 200)"
   ]
  },
  {
   "cell_type": "code",
   "execution_count": null,
   "id": "TE-7bvl-mm9d",
   "metadata": {
    "id": "TE-7bvl-mm9d"
   },
   "outputs": [],
   "source": [
    "data = swat['LIT401']\n",
    "a = 770\n",
    "b = 1000\n",
    "data1 = data[data.between(a,b)]\n",
    "  \n",
    "mu, std = norm.fit(data1) \n",
    "\n",
    "plt.hist(data1, bins=10, density=True, alpha=0.6, color='b')\n",
    "  \n",
    "xmin, xmax = plt.xlim()\n",
    "x = np.linspace(xmin, xmax, 100)\n",
    "p = norm.pdf(x, mu, std)\n",
    "  \n",
    "plt.plot(x, p, 'k', linewidth=2)\n",
    "title = \"Fit Values: {:.2f} and {:.2f} (values between {:.2f} and {:.2f})\".format(mu, std,a,b)\n",
    "plt.title(title)\n",
    "  \n",
    "plt.show()"
   ]
  },
  {
   "cell_type": "code",
   "execution_count": null,
   "id": "K4gjs4_XmvDZ",
   "metadata": {
    "id": "K4gjs4_XmvDZ"
   },
   "outputs": [],
   "source": [
    "swat['AIT501'].iplot(kind= 'hist',bins = 200)"
   ]
  },
  {
   "cell_type": "code",
   "execution_count": null,
   "id": "383369eNm9Sk",
   "metadata": {
    "id": "383369eNm9Sk"
   },
   "outputs": [],
   "source": [
    "data = swat['AIT501']\n",
    "a = 7.81\n",
    "b = 7.87\n",
    "data1 = data[data.between(a,b)]\n",
    "  \n",
    "mu, std = norm.fit(data1) \n",
    "\n",
    "plt.hist(data1, bins=10, density=True, alpha=0.6, color='b')\n",
    "  \n",
    "xmin, xmax = plt.xlim()\n",
    "x = np.linspace(xmin, xmax, 100)\n",
    "p = norm.pdf(x, mu, std)\n",
    "  \n",
    "plt.plot(x, p, 'k', linewidth=2)\n",
    "title = \"Fit Values: {:.2f} and {:.2f} (values between {:.2f} and {:.2f})\".format(mu, std,a,b)\n",
    "plt.title(title)\n",
    "  \n",
    "plt.show()"
   ]
  },
  {
   "cell_type": "code",
   "execution_count": null,
   "id": "sHFzcNq3nFdV",
   "metadata": {
    "id": "sHFzcNq3nFdV"
   },
   "outputs": [],
   "source": [
    "swat['AIT502'].iplot(kind= 'hist',bins = 200)"
   ]
  },
  {
   "cell_type": "code",
   "execution_count": null,
   "id": "vZ4iF5MznNP2",
   "metadata": {
    "id": "vZ4iF5MznNP2"
   },
   "outputs": [],
   "source": [
    "data = swat['AIT502']\n",
    "a = 166.5\n",
    "b = 178\n",
    "data1 = data[data.between(a,b)]\n",
    "  \n",
    "mu, std = norm.fit(data1) \n",
    "\n",
    "plt.hist(data1, bins=10, density=True, alpha=0.6, color='b')\n",
    "  \n",
    "xmin, xmax = plt.xlim()\n",
    "x = np.linspace(xmin, xmax, 100)\n",
    "p = norm.pdf(x, mu, std)\n",
    "  \n",
    "plt.plot(x, p, 'k', linewidth=2)\n",
    "title = \"Fit Values: {:.2f} and {:.2f} (values between {:.2f} and {:.2f})\".format(mu, std,a,b)\n",
    "plt.title(title)\n",
    "  \n",
    "plt.show()"
   ]
  },
  {
   "cell_type": "code",
   "execution_count": null,
   "id": "ZcmUO8VTnZuM",
   "metadata": {
    "id": "ZcmUO8VTnZuM"
   },
   "outputs": [],
   "source": [
    "swat['AIT503'].iplot(kind= 'hist',bins = 200)"
   ]
  },
  {
   "cell_type": "code",
   "execution_count": null,
   "id": "gFxA-N5FkGyV",
   "metadata": {
    "id": "gFxA-N5FkGyV"
   },
   "outputs": [],
   "source": [
    "data = swat['AIT503']\n",
    "a = 264.2\n",
    "b = 278.4\n",
    "data1 = data[data.between(a,b)]\n",
    "  \n",
    "mu, std = norm.fit(data1) \n",
    "\n",
    "plt.hist(data1, bins=10, density=True, alpha=0.6, color='b')\n",
    "  \n",
    "xmin, xmax = plt.xlim()\n",
    "x = np.linspace(xmin, xmax, 100)\n",
    "p = norm.pdf(x, mu, std)\n",
    "  \n",
    "plt.plot(x, p, 'k', linewidth=2)\n",
    "title = \"Fit Values: {:.2f} and {:.2f} (values between {:.2f} and {:.2f})\".format(mu, std,a,b)\n",
    "plt.title(title)\n",
    "  \n",
    "plt.show()"
   ]
  },
  {
   "cell_type": "code",
   "execution_count": null,
   "id": "HcBZmwjhk7eO",
   "metadata": {
    "id": "HcBZmwjhk7eO"
   },
   "outputs": [],
   "source": [
    "swat['AIT504'].iplot(kind= 'hist',bins = 200)"
   ]
  },
  {
   "cell_type": "code",
   "execution_count": null,
   "id": "DNbCqjElliUZ",
   "metadata": {
    "id": "DNbCqjElliUZ"
   },
   "outputs": [],
   "source": [
    "data = swat['AIT504']\n",
    "a = 10\n",
    "b = 14\n",
    "data1 = data[data.between(a,b)]\n",
    "  \n",
    "mu, std = norm.fit(data1) \n",
    "\n",
    "plt.hist(data1, bins=10, density=True, alpha=0.6, color='b')\n",
    "  \n",
    "xmin, xmax = plt.xlim()\n",
    "x = np.linspace(xmin, xmax, 100)\n",
    "p = norm.pdf(x, mu, std)\n",
    "  \n",
    "plt.plot(x, p, 'k', linewidth=2)\n",
    "title = \"Fit Values: {:.2f} and {:.2f} (values between {:.2f} and {:.2f})\".format(mu, std,a,b)\n",
    "plt.title(title)\n",
    "  \n",
    "plt.show()"
   ]
  },
  {
   "cell_type": "code",
   "execution_count": null,
   "id": "WaYYOqZ0lDA3",
   "metadata": {
    "id": "WaYYOqZ0lDA3"
   },
   "outputs": [],
   "source": [
    "swat['FIT501'].iplot(kind= 'hist',bins = 200)"
   ]
  },
  {
   "cell_type": "code",
   "execution_count": null,
   "id": "7krqM-JElUVa",
   "metadata": {
    "id": "7krqM-JElUVa"
   },
   "outputs": [],
   "source": [
    "data = swat['FIT501']\n",
    "a = 1.68\n",
    "b = 1.72\n",
    "data1 = data[data.between(a,b)]\n",
    "  \n",
    "mu, std = norm.fit(data1) \n",
    "\n",
    "plt.hist(data1, bins=10, density=True, alpha=0.6, color='b')\n",
    "  \n",
    "xmin, xmax = plt.xlim()\n",
    "x = np.linspace(xmin, xmax, 100)\n",
    "p = norm.pdf(x, mu, std)\n",
    "  \n",
    "plt.plot(x, p, 'k', linewidth=2)\n",
    "title = \"Fit Values: {:.2f} and {:.2f} (values between {:.2f} and {:.2f})\".format(mu, std,a,b)\n",
    "plt.title(title)\n",
    "  \n",
    "plt.show()"
   ]
  },
  {
   "cell_type": "code",
   "execution_count": null,
   "id": "DZjqpL7Glxip",
   "metadata": {
    "id": "DZjqpL7Glxip"
   },
   "outputs": [],
   "source": [
    "swat['FIT502'].iplot(kind= 'hist',bins = 200)"
   ]
  },
  {
   "cell_type": "code",
   "execution_count": null,
   "id": "5a4QC0Bql--K",
   "metadata": {
    "id": "5a4QC0Bql--K"
   },
   "outputs": [],
   "source": [
    "data = swat['FIT502']\n",
    "a = 1.21\n",
    "b = 1.31\n",
    "data1 = data[data.between(a,b)]\n",
    "  \n",
    "mu, std = norm.fit(data1) \n",
    "\n",
    "plt.hist(data1, bins=10, density=True, alpha=0.6, color='b')\n",
    "  \n",
    "xmin, xmax = plt.xlim()\n",
    "x = np.linspace(xmin, xmax, 100)\n",
    "p = norm.pdf(x, mu, std)\n",
    "  \n",
    "plt.plot(x, p, 'k', linewidth=2)\n",
    "title = \"Fit Values: {:.2f} and {:.2f} (values between {:.2f} and {:.2f})\".format(mu, std,a,b)\n",
    "plt.title(title)\n",
    "  \n",
    "plt.show()"
   ]
  },
  {
   "cell_type": "code",
   "execution_count": null,
   "id": "swEHk72umMin",
   "metadata": {
    "id": "swEHk72umMin"
   },
   "outputs": [],
   "source": [
    "swat['FIT503'].iplot(kind= 'hist',bins = 200)"
   ]
  },
  {
   "cell_type": "code",
   "execution_count": null,
   "id": "_zFQL1c4mRQ5",
   "metadata": {
    "id": "_zFQL1c4mRQ5"
   },
   "outputs": [],
   "source": [
    "data = swat['FIT503']\n",
    "a = 0.735\n",
    "b = 0.745\n",
    "data1 = data[data.between(a,b)]\n",
    "  \n",
    "mu, std = norm.fit(data1) \n",
    "\n",
    "plt.hist(data1, bins=10, density=True, alpha=0.6, color='b')\n",
    "  \n",
    "xmin, xmax = plt.xlim()\n",
    "x = np.linspace(xmin, xmax, 100)\n",
    "p = norm.pdf(x, mu, std)\n",
    "  \n",
    "plt.plot(x, p, 'k', linewidth=2)\n",
    "title = \"Fit Values: {:.2f} and {:.2f} (values between {:.2f} and {:.2f})\".format(mu, std,a,b)\n",
    "plt.title(title)\n",
    "  \n",
    "plt.show()"
   ]
  },
  {
   "cell_type": "code",
   "execution_count": null,
   "id": "0vHaoyiXmcLh",
   "metadata": {
    "id": "0vHaoyiXmcLh"
   },
   "outputs": [],
   "source": [
    "swat['PIT501'].iplot(kind= 'hist',bins = 200)"
   ]
  },
  {
   "cell_type": "code",
   "execution_count": null,
   "id": "-457JwsYmjds",
   "metadata": {
    "id": "-457JwsYmjds"
   },
   "outputs": [],
   "source": [
    "data = swat['PIT501']\n",
    "a = 250\n",
    "b = 258\n",
    "data1 = data[data.between(a,b)]\n",
    "  \n",
    "mu, std = norm.fit(data1) \n",
    "\n",
    "plt.hist(data1, bins=10, density=True, alpha=0.6, color='b')\n",
    "  \n",
    "xmin, xmax = plt.xlim()\n",
    "x = np.linspace(xmin, xmax, 100)\n",
    "p = norm.pdf(x, mu, std)\n",
    "  \n",
    "plt.plot(x, p, 'k', linewidth=2)\n",
    "title = \"Fit Values: {:.2f} and {:.2f} (values between {:.2f} and {:.2f})\".format(mu, std,a,b)\n",
    "plt.title(title)\n",
    "  \n",
    "plt.show()"
   ]
  },
  {
   "cell_type": "code",
   "execution_count": null,
   "id": "0NNve2AImsql",
   "metadata": {
    "id": "0NNve2AImsql"
   },
   "outputs": [],
   "source": [
    "swat['PIT502'].iplot(kind= 'hist',bins = 200)"
   ]
  },
  {
   "cell_type": "code",
   "execution_count": null,
   "id": "M8g6lQmEm5VB",
   "metadata": {
    "id": "M8g6lQmEm5VB"
   },
   "outputs": [],
   "source": [
    "data = swat['PIT502']\n",
    "a = 0.83\n",
    "b = 1.13\n",
    "data1 = data[data.between(a,b)]\n",
    "  \n",
    "mu, std = norm.fit(data1) \n",
    "\n",
    "plt.hist(data1, bins=7, density=True, alpha=0.6, color='b')\n",
    "  \n",
    "xmin, xmax = plt.xlim()\n",
    "x = np.linspace(xmin, xmax, 100)\n",
    "p = norm.pdf(x, mu, std)\n",
    "  \n",
    "plt.plot(x, p, 'k', linewidth=2)\n",
    "title = \"Fit Values: {:.2f} and {:.2f} (values between {:.2f} and {:.2f})\".format(mu, std,a,b)\n",
    "plt.title(title)\n",
    "  \n",
    "plt.show()"
   ]
  },
  {
   "cell_type": "code",
   "execution_count": null,
   "id": "AkiSDt6FnDvg",
   "metadata": {
    "id": "AkiSDt6FnDvg"
   },
   "outputs": [],
   "source": [
    "swat['PIT503'].iplot(kind= 'hist',bins = 200)"
   ]
  },
  {
   "cell_type": "code",
   "execution_count": null,
   "id": "Y7S71cQKnHjb",
   "metadata": {
    "id": "Y7S71cQKnHjb"
   },
   "outputs": [],
   "source": [
    "data = swat['PIT503']\n",
    "a = 190\n",
    "b = 197\n",
    "data1 = data[data.between(a,b)]\n",
    "  \n",
    "mu, std = norm.fit(data1) \n",
    "\n",
    "plt.hist(data1, bins=10, density=True, alpha=0.6, color='b')\n",
    "  \n",
    "xmin, xmax = plt.xlim()\n",
    "x = np.linspace(xmin, xmax, 100)\n",
    "p = norm.pdf(x, mu, std)\n",
    "  \n",
    "plt.plot(x, p, 'k', linewidth=2)\n",
    "title = \"Fit Values: {:.2f} and {:.2f} (values between {:.2f} and {:.2f})\".format(mu, std,a,b)\n",
    "plt.title(title)\n",
    "  \n",
    "plt.show()"
   ]
  },
  {
   "cell_type": "code",
   "execution_count": null,
   "id": "U4iHFb7YnVe8",
   "metadata": {
    "id": "U4iHFb7YnVe8"
   },
   "outputs": [],
   "source": [
    "swat['FIT601'].iplot(kind= 'hist',bins = 200)"
   ]
  },
  {
   "cell_type": "code",
   "execution_count": null,
   "id": "ThR0JqAdnab5",
   "metadata": {
    "id": "ThR0JqAdnab5"
   },
   "outputs": [],
   "source": [
    "data = swat['FIT601']\n",
    "a = -0.005\n",
    "b = 0.005\n",
    "data1 = data[data.between(a,b)]\n",
    "  \n",
    "mu, std = norm.fit(data1) \n",
    "\n",
    "plt.hist(data1, bins=10, density=True, alpha=0.6, color='b')\n",
    "  \n",
    "xmin, xmax = plt.xlim()\n",
    "x = np.linspace(xmin, xmax, 100)\n",
    "p = norm.pdf(x, mu, std)\n",
    "  \n",
    "plt.plot(x, p, 'k', linewidth=2)\n",
    "title = \"Fit Values: {:.2f} and {:.2f} (values between {:.2f} and {:.2f})\".format(mu, std,a,b)\n",
    "plt.title(title)\n",
    "  \n",
    "plt.show()"
   ]
  },
  {
   "cell_type": "code",
   "execution_count": null,
   "id": "r48CBnoHnlLZ",
   "metadata": {
    "id": "r48CBnoHnlLZ"
   },
   "outputs": [],
   "source": [
    "#The following columns are a good fit to the normal distribution:\n",
    "#LIT101,LIT401\n",
    "#FIT201,FIT301,FIT502\n",
    "#AIT402,AIT502,AIT503,AIT504\n",
    "#PIT501,PIT502,PIT503"
   ]
  },
  {
   "cell_type": "code",
   "execution_count": null,
   "id": "d4100baf",
   "metadata": {},
   "outputs": [],
   "source": []
  }
 ],
 "metadata": {
  "colab": {
   "name": "Gaussian Distribution and Correlation.ipynb",
   "provenance": []
  },
  "kernelspec": {
   "display_name": "Python 3",
   "language": "python",
   "name": "python3"
  },
  "language_info": {
   "codemirror_mode": {
    "name": "ipython",
    "version": 3
   },
   "file_extension": ".py",
   "mimetype": "text/x-python",
   "name": "python",
   "nbconvert_exporter": "python",
   "pygments_lexer": "ipython3",
   "version": "3.8.8"
  }
 },
 "nbformat": 4,
 "nbformat_minor": 5
}
